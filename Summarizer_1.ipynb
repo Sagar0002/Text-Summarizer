{
  "cells": [
    {
      "cell_type": "code",
      "source": [
        "%%shell\n",
        "# Ubuntu no longer distributes chromium-browser outside of snap\n",
        "#\n",
        "# Proposed solution: https://askubuntu.com/questions/1204571/how-to-install-chromium-without-snap\n",
        "\n",
        "# Add debian buster\n",
        "cat > /etc/apt/sources.list.d/debian.list <<'EOF'\n",
        "deb [arch=amd64 signed-by=/usr/share/keyrings/debian-buster.gpg] http://deb.debian.org/debian buster main\n",
        "deb [arch=amd64 signed-by=/usr/share/keyrings/debian-buster-updates.gpg] http://deb.debian.org/debian buster-updates main\n",
        "deb [arch=amd64 signed-by=/usr/share/keyrings/debian-security-buster.gpg] http://deb.debian.org/debian-security buster/updates main\n",
        "EOF\n",
        "\n",
        "# Add keys\n",
        "apt-key adv --keyserver keyserver.ubuntu.com --recv-keys DCC9EFBF77E11517\n",
        "apt-key adv --keyserver keyserver.ubuntu.com --recv-keys 648ACFD622F3D138\n",
        "apt-key adv --keyserver keyserver.ubuntu.com --recv-keys 112695A0E562B32A\n",
        "\n",
        "apt-key export 77E11517 | gpg --dearmour -o /usr/share/keyrings/debian-buster.gpg\n",
        "apt-key export 22F3D138 | gpg --dearmour -o /usr/share/keyrings/debian-buster-updates.gpg\n",
        "apt-key export E562B32A | gpg --dearmour -o /usr/share/keyrings/debian-security-buster.gpg\n",
        "\n",
        "# Prefer debian repo for chromium* packages only\n",
        "# Note the double-blank lines between entries\n",
        "cat > /etc/apt/preferences.d/chromium.pref << 'EOF'\n",
        "Package: *\n",
        "Pin: release a=eoan\n",
        "Pin-Priority: 500\n",
        "\n",
        "\n",
        "Package: *\n",
        "Pin: origin \"deb.debian.org\"\n",
        "Pin-Priority: 300\n",
        "\n",
        "\n",
        "Package: chromium*\n",
        "Pin: origin \"deb.debian.org\"\n",
        "Pin-Priority: 700\n",
        "EOF\n",
        "\n",
        "# Install chromium and chromium-driver\n",
        "apt-get update\n",
        "apt-get install chromium chromium-driver\n",
        "\n",
        "# Install selenium\n",
        "pip install selenium"
      ],
      "metadata": {
        "colab": {
          "base_uri": "https://localhost:8080/"
        },
        "id": "gUp3KEannXr5",
        "outputId": "a2aac6ee-8940-4385-9c5d-ba8be015e3a7"
      },
      "id": "gUp3KEannXr5",
      "execution_count": null,
      "outputs": [
        {
          "output_type": "stream",
          "name": "stdout",
          "text": [
            "Executing: /tmp/apt-key-gpghome.TMKKIkLz9b/gpg.1.sh --keyserver keyserver.ubuntu.com --recv-keys DCC9EFBF77E11517\n",
            "gpg: key DCC9EFBF77E11517: public key \"Debian Stable Release Key (10/buster) <debian-release@lists.debian.org>\" imported\n",
            "gpg: Total number processed: 1\n",
            "gpg:               imported: 1\n",
            "Executing: /tmp/apt-key-gpghome.qUKKgQ0UPb/gpg.1.sh --keyserver keyserver.ubuntu.com --recv-keys 648ACFD622F3D138\n",
            "gpg: key DC30D7C23CBBABEE: public key \"Debian Archive Automatic Signing Key (10/buster) <ftpmaster@debian.org>\" imported\n",
            "gpg: Total number processed: 1\n",
            "gpg:               imported: 1\n",
            "Executing: /tmp/apt-key-gpghome.igMbGyi6Sg/gpg.1.sh --keyserver keyserver.ubuntu.com --recv-keys 112695A0E562B32A\n",
            "gpg: key 4DFAB270CAA96DFA: public key \"Debian Security Archive Automatic Signing Key (10/buster) <ftpmaster@debian.org>\" imported\n",
            "gpg: Total number processed: 1\n",
            "gpg:               imported: 1\n",
            "Warning: apt-key output should not be parsed (stdout is not a terminal)\n",
            "Warning: apt-key output should not be parsed (stdout is not a terminal)\n",
            "Warning: apt-key output should not be parsed (stdout is not a terminal)\n",
            "Get:1 http://deb.debian.org/debian buster InRelease [122 kB]\n",
            "Get:2 https://cloud.r-project.org/bin/linux/ubuntu focal-cran40/ InRelease [3,622 B]\n",
            "Get:3 http://deb.debian.org/debian buster-updates InRelease [56.6 kB]\n",
            "Get:4 http://deb.debian.org/debian-security buster/updates InRelease [34.8 kB]\n",
            "Get:5 http://deb.debian.org/debian buster/main amd64 Packages [10.7 MB]\n",
            "Hit:6 https://developer.download.nvidia.com/compute/cuda/repos/ubuntu2004/x86_64  InRelease\n",
            "Get:7 http://security.ubuntu.com/ubuntu focal-security InRelease [114 kB]\n",
            "Hit:8 http://ppa.launchpad.net/c2d4u.team/c2d4u4.0+/ubuntu focal InRelease\n",
            "Hit:9 http://archive.ubuntu.com/ubuntu focal InRelease\n",
            "Get:10 http://deb.debian.org/debian buster-updates/main amd64 Packages [9,745 B]\n",
            "Get:11 http://archive.ubuntu.com/ubuntu focal-updates InRelease [114 kB]\n",
            "Hit:12 http://ppa.launchpad.net/cran/libgit2/ubuntu focal InRelease\n",
            "Get:13 http://deb.debian.org/debian-security buster/updates/main amd64 Packages [608 kB]\n",
            "Hit:14 http://ppa.launchpad.net/deadsnakes/ppa/ubuntu focal InRelease\n",
            "Get:15 http://archive.ubuntu.com/ubuntu focal-backports InRelease [108 kB]\n",
            "Hit:16 http://ppa.launchpad.net/graphics-drivers/ppa/ubuntu focal InRelease\n",
            "Hit:17 http://ppa.launchpad.net/ubuntugis/ppa/ubuntu focal InRelease\n",
            "Get:18 http://security.ubuntu.com/ubuntu focal-security/universe amd64 Packages [1,028 kB]\n",
            "Get:19 http://archive.ubuntu.com/ubuntu focal-updates/universe amd64 Packages [1,324 kB]\n",
            "Get:20 http://security.ubuntu.com/ubuntu focal-security/main amd64 Packages [2,593 kB]\n",
            "Get:21 http://archive.ubuntu.com/ubuntu focal-updates/main amd64 Packages [3,075 kB]\n",
            "Fetched 19.9 MB in 2s (10.2 MB/s)\n",
            "Reading package lists... Done\n",
            "Reading package lists... Done\n",
            "Building dependency tree       \n",
            "Reading state information... Done\n",
            "The following additional packages will be installed:\n",
            "  chromium-common chromium-sandbox libevent-2.1-6 libfontenc1 libicu63\n",
            "  libimobiledevice6 libjpeg62-turbo libplist3 libre2-5 libu2f-udev libudev1\n",
            "  libupower-glib3 libusbmuxd6 libvpx5 libxkbfile1 libxtst6 libxxf86dga1\n",
            "  notification-daemon udev upower usbmuxd x11-utils\n",
            "Suggested packages:\n",
            "  chromium-l10n chromium-shell libusbmuxd-tools mesa-utils\n",
            "The following NEW packages will be installed:\n",
            "  chromium chromium-common chromium-driver chromium-sandbox libevent-2.1-6\n",
            "  libfontenc1 libicu63 libimobiledevice6 libjpeg62-turbo libplist3 libre2-5\n",
            "  libu2f-udev libupower-glib3 libusbmuxd6 libvpx5 libxkbfile1 libxtst6\n",
            "  libxxf86dga1 notification-daemon udev upower usbmuxd x11-utils\n",
            "The following packages will be upgraded:\n",
            "  libudev1\n",
            "1 upgraded, 23 newly installed, 0 to remove and 29 not upgraded.\n",
            "Need to get 76.2 MB of archives.\n",
            "After this operation, 266 MB of additional disk space will be used.\n",
            "Get:1 http://deb.debian.org/debian buster/main amd64 libevent-2.1-6 amd64 2.1.8-stable-4 [177 kB]\n",
            "Get:2 http://deb.debian.org/debian buster/main amd64 libicu63 amd64 63.1-6+deb10u3 [8,293 kB]\n",
            "Get:3 http://deb.debian.org/debian buster/main amd64 libjpeg62-turbo amd64 1:1.5.2-2+deb10u1 [133 kB]\n",
            "Get:4 http://deb.debian.org/debian buster/main amd64 libvpx5 amd64 1.7.0-3+deb10u1 [800 kB]\n",
            "Get:5 http://deb.debian.org/debian buster/main amd64 chromium-common amd64 90.0.4430.212-1~deb10u1 [1,423 kB]\n",
            "Get:6 http://deb.debian.org/debian buster/main amd64 chromium amd64 90.0.4430.212-1~deb10u1 [58.3 MB]\n",
            "Get:7 http://archive.ubuntu.com/ubuntu focal-updates/main amd64 libudev1 amd64 245.4-4ubuntu3.21 [75.9 kB]\n",
            "Get:8 http://deb.debian.org/debian buster/main amd64 chromium-driver amd64 90.0.4430.212-1~deb10u1 [4,703 kB]\n",
            "Get:9 http://archive.ubuntu.com/ubuntu focal-updates/main amd64 udev amd64 245.4-4ubuntu3.21 [1,366 kB]\n",
            "Get:10 http://deb.debian.org/debian buster/main amd64 chromium-sandbox amd64 90.0.4430.212-1~deb10u1 [146 kB]\n",
            "Get:11 http://archive.ubuntu.com/ubuntu focal/main amd64 libre2-5 amd64 20200101+dfsg-1build1 [162 kB]\n",
            "Get:12 http://archive.ubuntu.com/ubuntu focal/main amd64 libfontenc1 amd64 1:1.1.4-0ubuntu1 [14.0 kB]\n",
            "Get:13 http://archive.ubuntu.com/ubuntu focal/main amd64 libxkbfile1 amd64 1:1.1.0-1 [65.3 kB]\n",
            "Get:14 http://archive.ubuntu.com/ubuntu focal/main amd64 libxtst6 amd64 2:1.2.3-1 [12.8 kB]\n",
            "Get:15 http://archive.ubuntu.com/ubuntu focal/main amd64 libxxf86dga1 amd64 2:1.1.5-0ubuntu1 [12.0 kB]\n",
            "Get:16 http://archive.ubuntu.com/ubuntu focal/main amd64 x11-utils amd64 7.7+5 [199 kB]\n",
            "Get:17 http://archive.ubuntu.com/ubuntu focal/main amd64 libplist3 amd64 2.1.0-4build2 [31.6 kB]\n",
            "Get:18 http://archive.ubuntu.com/ubuntu focal/main amd64 libusbmuxd6 amd64 2.0.1-2 [19.1 kB]\n",
            "Get:19 http://archive.ubuntu.com/ubuntu focal/main amd64 libimobiledevice6 amd64 1.2.1~git20191129.9f79242-1build1 [65.2 kB]\n",
            "Get:20 http://archive.ubuntu.com/ubuntu focal/main amd64 libu2f-udev all 1.1.10-1 [6,108 B]\n",
            "Get:21 http://archive.ubuntu.com/ubuntu focal/main amd64 libupower-glib3 amd64 0.99.11-1build2 [43.2 kB]\n",
            "Get:22 http://archive.ubuntu.com/ubuntu focal/universe amd64 notification-daemon amd64 3.20.0-4 [37.0 kB]\n",
            "Get:23 http://archive.ubuntu.com/ubuntu focal/main amd64 upower amd64 0.99.11-1build2 [104 kB]\n",
            "Get:24 http://archive.ubuntu.com/ubuntu focal/main amd64 usbmuxd amd64 1.1.1~git20191130.9af2b12-1 [38.4 kB]\n",
            "Fetched 76.2 MB in 1s (55.2 MB/s)\n",
            "(Reading database ... 122349 files and directories currently installed.)\n",
            "Preparing to unpack .../libudev1_245.4-4ubuntu3.21_amd64.deb ...\n",
            "Unpacking libudev1:amd64 (245.4-4ubuntu3.21) over (245.4-4ubuntu3.19) ...\n",
            "Setting up libudev1:amd64 (245.4-4ubuntu3.21) ...\n",
            "Selecting previously unselected package udev.\n",
            "(Reading database ... 122349 files and directories currently installed.)\n",
            "Preparing to unpack .../00-udev_245.4-4ubuntu3.21_amd64.deb ...\n",
            "Unpacking udev (245.4-4ubuntu3.21) ...\n",
            "Selecting previously unselected package libevent-2.1-6:amd64.\n",
            "Preparing to unpack .../01-libevent-2.1-6_2.1.8-stable-4_amd64.deb ...\n",
            "Unpacking libevent-2.1-6:amd64 (2.1.8-stable-4) ...\n",
            "Selecting previously unselected package libicu63:amd64.\n",
            "Preparing to unpack .../02-libicu63_63.1-6+deb10u3_amd64.deb ...\n",
            "Unpacking libicu63:amd64 (63.1-6+deb10u3) ...\n",
            "Selecting previously unselected package libjpeg62-turbo:amd64.\n",
            "Preparing to unpack .../03-libjpeg62-turbo_1%3a1.5.2-2+deb10u1_amd64.deb ...\n",
            "Unpacking libjpeg62-turbo:amd64 (1:1.5.2-2+deb10u1) ...\n",
            "Selecting previously unselected package libre2-5:amd64.\n",
            "Preparing to unpack .../04-libre2-5_20200101+dfsg-1build1_amd64.deb ...\n",
            "Unpacking libre2-5:amd64 (20200101+dfsg-1build1) ...\n",
            "Selecting previously unselected package libvpx5:amd64.\n",
            "Preparing to unpack .../05-libvpx5_1.7.0-3+deb10u1_amd64.deb ...\n",
            "Unpacking libvpx5:amd64 (1.7.0-3+deb10u1) ...\n",
            "Selecting previously unselected package libfontenc1:amd64.\n",
            "Preparing to unpack .../06-libfontenc1_1%3a1.1.4-0ubuntu1_amd64.deb ...\n",
            "Unpacking libfontenc1:amd64 (1:1.1.4-0ubuntu1) ...\n",
            "Selecting previously unselected package libxkbfile1:amd64.\n",
            "Preparing to unpack .../07-libxkbfile1_1%3a1.1.0-1_amd64.deb ...\n",
            "Unpacking libxkbfile1:amd64 (1:1.1.0-1) ...\n",
            "Selecting previously unselected package libxtst6:amd64.\n",
            "Preparing to unpack .../08-libxtst6_2%3a1.2.3-1_amd64.deb ...\n",
            "Unpacking libxtst6:amd64 (2:1.2.3-1) ...\n",
            "Selecting previously unselected package libxxf86dga1:amd64.\n",
            "Preparing to unpack .../09-libxxf86dga1_2%3a1.1.5-0ubuntu1_amd64.deb ...\n",
            "Unpacking libxxf86dga1:amd64 (2:1.1.5-0ubuntu1) ...\n",
            "Selecting previously unselected package x11-utils.\n",
            "Preparing to unpack .../10-x11-utils_7.7+5_amd64.deb ...\n",
            "Unpacking x11-utils (7.7+5) ...\n",
            "Selecting previously unselected package chromium-common.\n",
            "Preparing to unpack .../11-chromium-common_90.0.4430.212-1~deb10u1_amd64.deb ...\n",
            "Unpacking chromium-common (90.0.4430.212-1~deb10u1) ...\n",
            "Selecting previously unselected package chromium.\n",
            "Preparing to unpack .../12-chromium_90.0.4430.212-1~deb10u1_amd64.deb ...\n",
            "Unpacking chromium (90.0.4430.212-1~deb10u1) ...\n",
            "Selecting previously unselected package chromium-driver.\n",
            "Preparing to unpack .../13-chromium-driver_90.0.4430.212-1~deb10u1_amd64.deb ...\n",
            "Unpacking chromium-driver (90.0.4430.212-1~deb10u1) ...\n",
            "Selecting previously unselected package chromium-sandbox.\n",
            "Preparing to unpack .../14-chromium-sandbox_90.0.4430.212-1~deb10u1_amd64.deb ...\n",
            "Unpacking chromium-sandbox (90.0.4430.212-1~deb10u1) ...\n",
            "Selecting previously unselected package libplist3:amd64.\n",
            "Preparing to unpack .../15-libplist3_2.1.0-4build2_amd64.deb ...\n",
            "Unpacking libplist3:amd64 (2.1.0-4build2) ...\n",
            "Selecting previously unselected package libusbmuxd6:amd64.\n",
            "Preparing to unpack .../16-libusbmuxd6_2.0.1-2_amd64.deb ...\n",
            "Unpacking libusbmuxd6:amd64 (2.0.1-2) ...\n",
            "Selecting previously unselected package libimobiledevice6:amd64.\n",
            "Preparing to unpack .../17-libimobiledevice6_1.2.1~git20191129.9f79242-1build1_amd64.deb ...\n",
            "Unpacking libimobiledevice6:amd64 (1.2.1~git20191129.9f79242-1build1) ...\n",
            "Selecting previously unselected package libu2f-udev.\n",
            "Preparing to unpack .../18-libu2f-udev_1.1.10-1_all.deb ...\n",
            "Unpacking libu2f-udev (1.1.10-1) ...\n",
            "Selecting previously unselected package libupower-glib3:amd64.\n",
            "Preparing to unpack .../19-libupower-glib3_0.99.11-1build2_amd64.deb ...\n",
            "Unpacking libupower-glib3:amd64 (0.99.11-1build2) ...\n",
            "Selecting previously unselected package notification-daemon.\n",
            "Preparing to unpack .../20-notification-daemon_3.20.0-4_amd64.deb ...\n",
            "Unpacking notification-daemon (3.20.0-4) ...\n",
            "Selecting previously unselected package upower.\n",
            "Preparing to unpack .../21-upower_0.99.11-1build2_amd64.deb ...\n",
            "Unpacking upower (0.99.11-1build2) ...\n",
            "Selecting previously unselected package usbmuxd.\n",
            "Preparing to unpack .../22-usbmuxd_1.1.1~git20191130.9af2b12-1_amd64.deb ...\n",
            "Unpacking usbmuxd (1.1.1~git20191130.9af2b12-1) ...\n",
            "Setting up libplist3:amd64 (2.1.0-4build2) ...\n",
            "Setting up libxtst6:amd64 (2:1.2.3-1) ...\n",
            "Setting up libxxf86dga1:amd64 (2:1.1.5-0ubuntu1) ...\n",
            "Setting up chromium-sandbox (90.0.4430.212-1~deb10u1) ...\n",
            "Setting up libicu63:amd64 (63.1-6+deb10u3) ...\n",
            "Setting up notification-daemon (3.20.0-4) ...\n",
            "Setting up libfontenc1:amd64 (1:1.1.4-0ubuntu1) ...\n",
            "Setting up libjpeg62-turbo:amd64 (1:1.5.2-2+deb10u1) ...\n",
            "Setting up udev (245.4-4ubuntu3.21) ...\n",
            "invoke-rc.d: could not determine current runlevel\n",
            "invoke-rc.d: policy-rc.d denied execution of start.\n",
            "Setting up libevent-2.1-6:amd64 (2.1.8-stable-4) ...\n",
            "Setting up libusbmuxd6:amd64 (2.0.1-2) ...\n",
            "Setting up libupower-glib3:amd64 (0.99.11-1build2) ...\n",
            "Setting up libre2-5:amd64 (20200101+dfsg-1build1) ...\n",
            "Setting up libxkbfile1:amd64 (1:1.1.0-1) ...\n",
            "Setting up libimobiledevice6:amd64 (1.2.1~git20191129.9f79242-1build1) ...\n",
            "Setting up libvpx5:amd64 (1.7.0-3+deb10u1) ...\n",
            "Setting up libu2f-udev (1.1.10-1) ...\n",
            "Failed to send reload request: No such file or directory\n",
            "Setting up upower (0.99.11-1build2) ...\n",
            "Setting up usbmuxd (1.1.1~git20191130.9af2b12-1) ...\n",
            "Warning: The home dir /var/lib/usbmux you specified can't be accessed: No such file or directory\n",
            "Adding system user `usbmux' (UID 105) ...\n",
            "Adding new user `usbmux' (UID 105) with group `plugdev' ...\n",
            "Not creating home directory `/var/lib/usbmux'.\n",
            "Setting up x11-utils (7.7+5) ...\n",
            "Setting up chromium-common (90.0.4430.212-1~deb10u1) ...\n",
            "Setting up chromium (90.0.4430.212-1~deb10u1) ...\n",
            "update-alternatives: using /usr/bin/chromium to provide /usr/bin/x-www-browser (x-www-browser) in auto mode\n",
            "update-alternatives: using /usr/bin/chromium to provide /usr/bin/gnome-www-browser (gnome-www-browser) in auto mode\n",
            "Setting up chromium-driver (90.0.4430.212-1~deb10u1) ...\n",
            "Processing triggers for systemd (245.4-4ubuntu3.20) ...\n",
            "Processing triggers for man-db (2.9.1-1) ...\n",
            "Processing triggers for dbus (1.12.16-2ubuntu2.3) ...\n",
            "Processing triggers for mime-support (3.64ubuntu1) ...\n",
            "Processing triggers for hicolor-icon-theme (0.17-2) ...\n",
            "Processing triggers for libc-bin (2.31-0ubuntu9.9) ...\n",
            "Looking in indexes: https://pypi.org/simple, https://us-python.pkg.dev/colab-wheels/public/simple/\n",
            "Collecting selenium\n",
            "  Downloading selenium-4.8.3-py3-none-any.whl (6.5 MB)\n",
            "\u001b[2K     \u001b[90m━━━━━━━━━━━━━━━━━━━━━━━━━━━━━━━━━━━━━━━━\u001b[0m \u001b[32m6.5/6.5 MB\u001b[0m \u001b[31m71.7 MB/s\u001b[0m eta \u001b[36m0:00:00\u001b[0m\n",
            "\u001b[?25hRequirement already satisfied: certifi>=2021.10.8 in /usr/local/lib/python3.9/dist-packages (from selenium) (2022.12.7)\n",
            "Requirement already satisfied: urllib3[socks]~=1.26 in /usr/local/lib/python3.9/dist-packages (from selenium) (1.26.15)\n",
            "Collecting trio~=0.17\n",
            "  Downloading trio-0.22.0-py3-none-any.whl (384 kB)\n",
            "\u001b[2K     \u001b[90m━━━━━━━━━━━━━━━━━━━━━━━━━━━━━━━━━━━━━━\u001b[0m \u001b[32m384.9/384.9 kB\u001b[0m \u001b[31m37.0 MB/s\u001b[0m eta \u001b[36m0:00:00\u001b[0m\n",
            "\u001b[?25hCollecting trio-websocket~=0.9\n",
            "  Downloading trio_websocket-0.10.2-py3-none-any.whl (17 kB)\n",
            "Requirement already satisfied: sortedcontainers in /usr/local/lib/python3.9/dist-packages (from trio~=0.17->selenium) (2.4.0)\n",
            "Requirement already satisfied: sniffio in /usr/local/lib/python3.9/dist-packages (from trio~=0.17->selenium) (1.3.0)\n",
            "Requirement already satisfied: exceptiongroup>=1.0.0rc9 in /usr/local/lib/python3.9/dist-packages (from trio~=0.17->selenium) (1.1.1)\n",
            "Collecting outcome\n",
            "  Downloading outcome-1.2.0-py2.py3-none-any.whl (9.7 kB)\n",
            "Requirement already satisfied: attrs>=19.2.0 in /usr/local/lib/python3.9/dist-packages (from trio~=0.17->selenium) (22.2.0)\n",
            "Collecting async-generator>=1.9\n",
            "  Downloading async_generator-1.10-py3-none-any.whl (18 kB)\n",
            "Requirement already satisfied: idna in /usr/local/lib/python3.9/dist-packages (from trio~=0.17->selenium) (3.4)\n",
            "Collecting wsproto>=0.14\n",
            "  Downloading wsproto-1.2.0-py3-none-any.whl (24 kB)\n",
            "Requirement already satisfied: PySocks!=1.5.7,<2.0,>=1.5.6 in /usr/local/lib/python3.9/dist-packages (from urllib3[socks]~=1.26->selenium) (1.7.1)\n",
            "Collecting h11<1,>=0.9.0\n",
            "  Downloading h11-0.14.0-py3-none-any.whl (58 kB)\n",
            "\u001b[2K     \u001b[90m━━━━━━━━━━━━━━━━━━━━━━━━━━━━━━━━━━━━━━━━\u001b[0m \u001b[32m58.3/58.3 kB\u001b[0m \u001b[31m8.7 MB/s\u001b[0m eta \u001b[36m0:00:00\u001b[0m\n",
            "\u001b[?25hInstalling collected packages: outcome, h11, async-generator, wsproto, trio, trio-websocket, selenium\n",
            "Successfully installed async-generator-1.10 h11-0.14.0 outcome-1.2.0 selenium-4.8.3 trio-0.22.0 trio-websocket-0.10.2 wsproto-1.2.0\n"
          ]
        },
        {
          "output_type": "execute_result",
          "data": {
            "text/plain": []
          },
          "metadata": {},
          "execution_count": 2
        }
      ]
    },
    {
      "cell_type": "code",
      "source": [
        "import bs4 as bs\n",
        "import urllib.request\n",
        "import re\n",
        "import heapq\n",
        "import nltk\n",
        "#import pdftotext\n",
        "nltk.download('punkt')\n",
        "nltk.download('stopwords')"
      ],
      "metadata": {
        "colab": {
          "base_uri": "https://localhost:8080/"
        },
        "id": "R0DZlpAfo-6c",
        "outputId": "dfde454a-1666-4df2-8b9d-c4556548b885"
      },
      "id": "R0DZlpAfo-6c",
      "execution_count": null,
      "outputs": [
        {
          "output_type": "stream",
          "name": "stderr",
          "text": [
            "[nltk_data] Downloading package punkt to /root/nltk_data...\n",
            "[nltk_data]   Unzipping tokenizers/punkt.zip.\n",
            "[nltk_data] Downloading package stopwords to /root/nltk_data...\n",
            "[nltk_data]   Unzipping corpora/stopwords.zip.\n"
          ]
        },
        {
          "output_type": "execute_result",
          "data": {
            "text/plain": [
              "True"
            ]
          },
          "metadata": {},
          "execution_count": 16
        }
      ]
    },
    {
      "cell_type": "code",
      "source": [
        "!wget -q https://chromedriver.storage.googleapis.com/111.0.5563.64/chromedriver_linux64.zip\n",
        "!unzip -qq chromedriver_linux64.zip"
      ],
      "metadata": {
        "id": "Sw9s0SvZnacr"
      },
      "id": "Sw9s0SvZnacr",
      "execution_count": null,
      "outputs": []
    },
    {
      "cell_type": "code",
      "source": [],
      "metadata": {
        "id": "KHr8XkvVnfsz"
      },
      "id": "KHr8XkvVnfsz",
      "execution_count": null,
      "outputs": []
    },
    {
      "cell_type": "code",
      "source": [
        "!pip install kora -q\n"
      ],
      "metadata": {
        "id": "RP4G5rMnoBo5"
      },
      "execution_count": null,
      "outputs": [],
      "id": "RP4G5rMnoBo5"
    },
    {
      "cell_type": "code",
      "execution_count": null,
      "id": "0e51833f",
      "metadata": {
        "id": "0e51833f"
      },
      "outputs": [],
      "source": [
        "import time\n",
        "from bs4 import BeautifulSoup\n",
        "from kora.selenium import wd as browser\n",
        "browser.get('https://articles.manupatra.com/article-details/Fundamental-terms')\n",
        "time.sleep(10)"
      ]
    },
    {
      "cell_type": "code",
      "execution_count": null,
      "id": "795ac116",
      "metadata": {
        "id": "795ac116"
      },
      "outputs": [],
      "source": [
        "html=browser.page_source\n",
        "soup5 = BeautifulSoup(html, \"html.parser\")"
      ]
    },
    {
      "cell_type": "code",
      "execution_count": null,
      "id": "b4a45f9e",
      "metadata": {
        "id": "b4a45f9e"
      },
      "outputs": [],
      "source": [
        "paragraphs = soup5.find_all(class_='para')"
      ]
    },
    {
      "cell_type": "code",
      "execution_count": null,
      "id": "066bb76e",
      "metadata": {
        "colab": {
          "base_uri": "https://localhost:8080/"
        },
        "id": "066bb76e",
        "outputId": "8590efc2-a0cd-4a62-910a-0ce8e766f12f"
      },
      "outputs": [
        {
          "output_type": "stream",
          "name": "stdout",
          "text": [
            "[<p class=\"para\">Contracts in India are governed by the Indian Contract Act,1872 which is based on the English Common Law. Under section 2(h) the Act defines a contract to be an agreement enforceable by law. The contract is in lay terms a legally enforceable arrangement voluntarily concluded with respect and reciprocal responsibility on the part of the parties. .</p>, <p class=\"para\">A fundamental term is one which is deemed to form the \"core\" of the contract. It is also asserted that performance of a fundamental term can not, unlike other contract terms, be avoided by means of exemption clause. It's a mechanism to provide redress or a remedy in case one or more party breaches in term or any obligation that they have undertake. it might seem overwhelming first at first once you consider the length and bredth of the requirements the case law itself. only suggests the scenario or what exactly happened but when we study or analyse the terms of contract it might be difficult to determine may be based on importance or whether it has been mentioned what remedies are there if it all they have been mentioned so on so forth</p>, <p class=\"para\">There are main two types of fundamental terms</p>, <p class=\"para\">Express term &amp; Implied term</p>, <p class=\"para\">-Formation of contract: a haphazard process.</p>, <p class=\"para\">Whether something is a term or mere representation.</p>, <p class=\"para\">Intention of the parties.</p>, <p class=\"para\">Express and implied terms.</p>, <p class=\"para\">Implied by law.</p>, <p class=\"para\">Implied by fact.</p>, <p class=\"para\">Nature of contractual terms.</p>, <p class=\"para\">Warranty!-Condition.</p>, <p class=\"para\">innominate terms.</p>, <p class=\"para\">In United Kingdom the application of such clauses that limit or exclude liability is quite uniform and is also aided by the statutory legislation namely the Unfair Contract Terms Act 1977 (UCTA). English courts have relied on the test of reasonableness for the determining the validity of such clauses. In India however there exists no statutory provision to bar exclusion of liability. In the absence of such statutory provisions the varied judicial interpretations result in uncertainty. While the Indian contract act deals with void contracts and void terms and the Special Reliefs Act provides relief against unfair substantial terms and unfair procedural terms, till date no law has clearly demarcated what constitutes as 'unfair</p>, <p class=\"para\">This is some terms which could concluded as a fundamental terms</p>, <p class=\"para\">Whether something is a term or mere representation.</p>, <p class=\"para\">Intention of the parties.</p>, <p class=\"para\">Express and implied terms.</p>, <p class=\"para\">Implied by law.</p>, <p class=\"para\">Implied by fact.</p>, <p class=\"para\">Nature of contractual terms.</p>, <p class=\"para\">Warranty!-Condition.</p>, <p class=\"para\">innominate terms.</p>, <p class=\"para\">Whether something is a term or mere representation - It is main to see either a particular assertion is a allowable term or if it is a likeness as this will decide the appropriate cause of operation and remedy feasible. If the statement comes to a term of the contract that is not completed, the naive body concede possibility sue for breach of trust. If the charge is only a likeness that produces to be dishonest, the blameless body grant permission bring legal charges against for misrepresentation.</p>, <p class=\"para\">Intention of the parties - In a contract, resolute refers to the perseverance of parties to act or act in the way. It's a spirits with that the bodies filed into permissible obligations. Because it's troublesome to find the resolute directly, it's frequently believed from gospels and degree of the contract.</p>, <p class=\"para\">Express and implied contract - Express contracts and unspoken contracts are two classifications of a contract. Express contract demonstrates promises created between bodies accompanying agreements and environments interpret.Implicit contracts are fashioned betwixt parties established behaviours of bodies. Components of express contracts are offer and agreement.</p>, <p class=\"para\">Implied by law - An latent term is a permissible term which has not existed written in the written supplyings of a contract, cause it has not existed expressly concurred. Bodies should keep in mind the conditions fit being implied, in addition to if they can be specifically forbade. Catherine Simpson looks at few common indirect conditions in construction contracts, having connection with value, appropriateness for purpose, skill and care, and honest intentions.</p>, <p class=\"para\">Implied by facts - An implied-in-fact contract exists based on the behavior of the respective parties when, for example, one party enters a hair salon, sits down in a chair, and asks for a haircut, which the other party then provides. By asking for the haircut, the first party has implicitly agreed to pay for the haircut.</p>, <p class=\"para\">Nature of contractual terms - section 10 of Indian Contract Act, 1872 delimits as \" All concurrences are contracts if they are created for one free consent; bodies able to the contract bearing legitimate concern and allowable object and not definitely asserted as a void \".</p>, <p class=\"para\">Warranty - conditions - A Warranty is a term in a contract namely more like a promise by individual body than a condition decide upon by two together bodies. A main dissimilarity is that if a body abandons to observe a promise, the grieving body can require damages, but that disappointment does not specify cause for end of the contract.</p>, <p class=\"para\">Inominate teams- An Inominate term is the middle point 'tween a condition and a promise. It is frequently deliberate the \"no-make ready with supplies land\" betwixt two together. Unknown agreements, environments, and warranties are types of promises fashioned in contracts. If individual of the bodies in the contract doesn't answer these promises, it is thought-out a breach of trust, what body maybe grasped responsible for damages. In few cases, a gap admits the oppressed body to finish the contract. This is named a repudiatory rift, and only sure types of agreements admit this to occur.</p>, <p class=\"para\">Contract is fashioned betwixt the bodies the one are engaged to bind together in a permissible responsibility that is to say. to do the interest of two together the parties. The bodies, in consideration of rule themselves and to safeguard their interest form their own conditions and environments. And when specific agreements and conditions are established by two together the bodies, skilled is an authorization of the contract that is the liability is dictated on the body to the contract and to function similarly the agreements and conditions of the contract.Though many a occasions, the weakening parties work in accordance with the conditions and environments of the other body, skilled are instances when individual body back steps, so chief to the misfortune to different body.This is applied as denial. According to the portion 39 of the indian contract Act, \"Any intimation either saying or by conduct that the body declines in the second place with the contract is repudiation, if the result is inclined strip the blameless body of solid the benefit of thecontract\"Thus, rejectionb can happen when the either body refuses to act welcome part, or create it impossible for him to act or even abandons to act welcome constituent contract in each of the cases in such a tone concerning show an goal not to execute his one the contract.Breach of contract is delineated is a allowable cause of operation at which point a binding concurrence or bargained for exchange is not respected by individual or more bodies to the contract by non-performance or impedance accompanying the added body?s act. It the body does not discharge welcome contractual promise, or has likely facts to the other body that he will not act welcome assignment as mentioned in the contract or if by welcome operation and conduct he appears expected incapable to act the contract, he is pronounced expected breach of trust.Th us when a body bearing a assignment to act a contract abandons commotion that, or does demonstration whereby the act of the contract by him enhancesabsurd, or he refuses to act the contract, skilled is pronounced expected a breach of trust on his part. On the breach of trust for one individual body, the added body is dismissed of welcome responsibilities to perform welcome unspecified the obligations. Breach of a contract does not discharge the contract, through instinctively end the obligation of the harmless body. It gives an belief to the blameless body to regard itself as discharged. The naive body rescinds the contract, the basic responsibility of two together the bodies is over, but the defaulting bodies enhance open for fee of repayment for the rupture. The innocent party can likewise grant the broken accomplishment and choose to acknowledge damages alternatively of ending the contract.The breach of trust concede possibility be either: (i) real, that is non-depiction of the contract on the due date of conduct, or (ii) expectant, that is before the due date of the conduct has happen.Thus, when the body to the contract refuses commotion an act or does showing concurrently with an activity of theperformance of the contract before it is pronounced expected the real rift of the contract, but when the party to the contract refuses commotion demonstration or does showing before moment of truth of depiction by which the acting of the contract is not likely, the aforementioned gap is popular as the anticipatory breach</p>, <p class=\"para\">Terms and Conditions are the lively analyses that businesses fix to guarantee that they safeguard their rights. However, you endure further ensure that they are permissible, enforceable, and do their destined purpose. Otherwise, you leave your association unprotected to legal responsibilities or undesirable results.Rather than leave your contracts to best guesses, inspect the news below to gain nearly conditions and environments.</p>, <p class=\"para\">Terms and environments are few a that guarantee bodies accept their allowable rights and obligations. Parties draft bureaucracy into a allowable contract, otherwise known as a allowable compromise, similarly local, state, and genera l contract societies. They set main frontiers that all contract principals must uphold.</p>, <p class=\"para\">Terms and conditions are used in a variety of contract kinds. Consider how you want to structure your contract and negotiate the terms and conditions with the other party before concluding anything when you have a formal agreement to construct with another person or company. This tactic will aid in fostering a feeling of value and inclusion on al l sides.</p>, <p class=\"para\">In the broadest sense, terms and conditions are quite ambiguous. Nevertheless, based on the complexity, size, and industry of the contract, they may have more precise terms. You'll discover that various types of terms and conditions all contain similar elements.</p>, <p class=\"para\">A contract's terms and conditions serve as a set of guidelines for all of its parties. They also provide information to courts regarding the original aim and goal of the transaction.</p>, <p class=\"para\">Terms and conditions may include the following:</p>, <p class=\"para\">Rights</p>, <p class=\"para\">Obligations</p>, <p class=\"para\">Duties</p>, <p class=\"para\">Roles</p>, <p class=\"para\">Responsibilities</p>, <p class=\"para\">Consideration</p>, <p class=\"para\">Contact details</p>, <p class=\"para\">With signatures</p>, <p class=\"para\">resolving conflicts</p>, <p class=\"para\">Significant dates</p>, <p class=\"para\">Deliverables</p>, <p class=\"para\">Terms of payment</p>, <p class=\"para\">Limitations.</p>, <p class=\"para\">Terms and conditions are used to let customers know their rights before making a purchase. Both parties should be informed of the potential legal repercussions that they bring. Before you sign any contracts, make sure to carefully read them because many do not allow you to cancel them without paying a fee before carrying out your duties.</p>, <p class=\"para\"><u>1. UptofFn India Ltd v Shanni Bann</u><sup>1</sup></p>, <p class=\"para\">\"This case, was related to the conferment of the permanent employment status. The Court held that the termination without notice of a contract of an employee without any duration is regarded as arbitrary and unlawful for matters of employment by a Govt entity or any public entity established as a State pursuant to article 12 of the Constitution, regardless of the employment provision or standing orders.\"</p>, <p class=\"para\"><i>Analysis of Importance of fundamental terms</i></p>, <p class=\"para\">\"terms are nothing different but it is an statement in Which owner clarifies the conditions and consequences of something in contract. Each Fundamental terms Forms contractual obligation for both and in incase of breach of that contractual obligation results in legal remedies.Formation of contracts are very common in business and in many other work which is long in some cases and short in some cases as well but the objective in contract is to decide terms and form conditions for both the parties. Every contract of business contains the key terms in contract which is of diffrent categories. The terms of contract forms obligation on parties by law, that is why both the parties review on terms strictly and negotiate on that terms until both the parties satisfied. presence of terms protect the best intrests of both the parties by the deadlines, fees and compensation. few terms are specific which can be seen invariety of contract. Contractual language are mostly used without knowing that both parties knows the right legal terms. to make it easier here types of contract.\"</p>, <p class=\"para\">1. Condition</p>, <p class=\"para\">If a term is a conditions and a party is no following then the performing party will be on the breach of contract. other party can claim the damages and entitled to remedies.</p>, <p class=\"para\">2. Warranties</p>, <p class=\"para\">If a term is warranty. and a party is on the breach of contract then counterparty is allowed to claim damages, However parties can not terminate contract .</p>, <p class=\"para\">3. Innominate</p>, <p class=\"para\">A term will be Innominate if it is neither condition nor warranty. in case of breach of innominate term, the short of remedy Will depend on how several the breach is. If the party not get the benefit mentioned in the contract then it Will be brech of condition. Then party will be able to terminate the contract and claim damage. while breach is minor and not enough to terminate the contract. it will be classed as a breach of warranty. The innocent Will only we able to claim damages.</p>, <p class=\"para\">Some companies omit important terms pertaining to their activities, such as:</p>, <p class=\"para\">Restrictions on liability</p>, <p class=\"para\">use restrictions</p>, <p class=\"para\">closure of the account</p>, <p class=\"para\">Payment and warranty terms for goods</p>, <p class=\"para\">A change to the conditions of the agreement</p>, <p class=\"para\">These clauses safeguard you in the case that a user tries to improperly utilise your website.</p>, <p class=\"para\">A reduction of provisions requires that everyone agree to use the site at their own risk and places full responsibility for law breaking on the shoulders of users</p>, <p class=\"para\">Terms and Policies for Sony: Excerpt from the Declaration of Harm caused and Limitation of Liability clause</p>, <p class=\"para\">With capital letters and boilerplate wording refusing to acknowledge all guarantees that may be legally disclaimed, these phrases frequently have a remarkably similar appearance.</p>, <p class=\"para\">'A Restricted Uses section expressly warns users against using your website in an incorrect or unlawful manner.</p>, <p class=\"para\">You can close accounts that don't comply with your T&amp;C or for any other purpose you see fit if they have an entity sunset clause.</p>, <p class=\"para\">Nintendo, for instance, has the right to terminate information at any time, for any reason, even without advanced warning.</p>, <p class=\"para\">Nintendo's Terms of Use: Provider Modification and Termination section</p>, <p class=\"para\">Without these three provisions, even if one individual violates the law, you risk getting into legal trouble. These clauses offer you the freedom to spot illegal actions and put an end to it without needing a court order or the user's right to seek redress.</p>, <p class=\"para\">Check off each item on a review prior publishing your Terms and Conditions to make sure you covered all of your business practises.</p>, <p class=\"para\">In the case, the Some companies omit important terms pertaining to their activities, such as:</p>, <p class=\"para\">A reduction of provisions requires that everyone agree to use the site at their own risk and places full responsibility for law breaking on the shoulders of users.\"</p>, <p class=\"para\">Here is a Sony illustration:</p>, <p class=\"para\">Terms and Policies for Sony: Excerpt from the Declaration of Harm caused and Limitation of Liability clause</p>, <p class=\"para\">With capital letters and boilerplate wording refusing to acknowledge all guarantees that may be legally disclaimed, these phrases frequently have a remarkably similar appearance.</p>, <p class=\"para\">Isuues related to terms in contract.</p>, <p class=\"para\">It can be seen from the analysis of both legislations and judicial interpretation that the legal regime in India related fundamental terms in a contract is fairly unambiguous and the narrow in its ambit as compared to the United Kingdom. An agreement made involving two or more entities (individuals or entities) that establishes rights and liabilities and makes those entitlements enforceable against the participants is known as a contract. Depending on the type of contract, many legal system needs that a contract be in writing and signed in order to be enforceable, while others allow for the construction of a legally enforceable contract even through verbal agreement.There must be an offer and acceptance for there to be a contract. When there is consensus in idem, also known as a convergence of the thoughts, the contract is considered to be finalised. To put it another way, the partners' comprehension of all material provisions of the agreement .</p>]\n"
          ]
        }
      ],
      "source": [
        "print(paragraphs)"
      ]
    },
    {
      "cell_type": "code",
      "execution_count": null,
      "id": "79898bec",
      "metadata": {
        "id": "79898bec"
      },
      "outputs": [],
      "source": [
        "article_text = \"\"\n",
        "\n",
        "for p in paragraphs:\n",
        "    article_text += p.text"
      ]
    },
    {
      "cell_type": "code",
      "execution_count": null,
      "id": "02826038",
      "metadata": {
        "colab": {
          "base_uri": "https://localhost:8080/"
        },
        "id": "02826038",
        "outputId": "2e46c4ef-c04f-46aa-9a69-36340a018491"
      },
      "outputs": [
        {
          "output_type": "stream",
          "name": "stdout",
          "text": [
            "Contracts in India are governed by the Indian Contract Act,1872 which is based on the English Common Law. Under section 2(h) the Act defines a contract to be an agreement enforceable by law. The contract is in lay terms a legally enforceable arrangement voluntarily concluded with respect and reciprocal responsibility on the part of the parties. .A fundamental term is one which is deemed to form the \"core\" of the contract. It is also asserted that performance of a fundamental term can not, unlike other contract terms, be avoided by means of exemption clause. It's a mechanism to provide redress or a remedy in case one or more party breaches in term or any obligation that they have undertake. it might seem overwhelming first at first once you consider the length and bredth of the requirements the case law itself. only suggests the scenario or what exactly happened but when we study or analyse the terms of contract it might be difficult to determine may be based on importance or whether it has been mentioned what remedies are there if it all they have been mentioned so on so forthThere are main two types of fundamental termsExpress term & Implied term-Formation of contract: a haphazard process.Whether something is a term or mere representation.Intention of the parties.Express and implied terms.Implied by law.Implied by fact.Nature of contractual terms.Warranty!-Condition.innominate terms.In United Kingdom the application of such clauses that limit or exclude liability is quite uniform and is also aided by the statutory legislation namely the Unfair Contract Terms Act 1977 (UCTA). English courts have relied on the test of reasonableness for the determining the validity of such clauses. In India however there exists no statutory provision to bar exclusion of liability. In the absence of such statutory provisions the varied judicial interpretations result in uncertainty. While the Indian contract act deals with void contracts and void terms and the Special Reliefs Act provides relief against unfair substantial terms and unfair procedural terms, till date no law has clearly demarcated what constitutes as 'unfairThis is some terms which could concluded as a fundamental termsWhether something is a term or mere representation.Intention of the parties.Express and implied terms.Implied by law.Implied by fact.Nature of contractual terms.Warranty!-Condition.innominate terms.Whether something is a term or mere representation - It is main to see either a particular assertion is a allowable term or if it is a likeness as this will decide the appropriate cause of operation and remedy feasible. If the statement comes to a term of the contract that is not completed, the naive body concede possibility sue for breach of trust. If the charge is only a likeness that produces to be dishonest, the blameless body grant permission bring legal charges against for misrepresentation.Intention of the parties - In a contract, resolute refers to the perseverance of parties to act or act in the way. It's a spirits with that the bodies filed into permissible obligations. Because it's troublesome to find the resolute directly, it's frequently believed from gospels and degree of the contract.Express and implied contract - Express contracts and unspoken contracts are two classifications of a contract. Express contract demonstrates promises created between bodies accompanying agreements and environments interpret.Implicit contracts are fashioned betwixt parties established behaviours of bodies. Components of express contracts are offer and agreement.Implied by law - An latent term is a permissible term which has not existed written in the written supplyings of a contract, cause it has not existed expressly concurred. Bodies should keep in mind the conditions fit being implied, in addition to if they can be specifically forbade. Catherine Simpson looks at few common indirect conditions in construction contracts, having connection with value, appropriateness for purpose, skill and care, and honest intentions.Implied by facts - An implied-in-fact contract exists based on the behavior of the respective parties when, for example, one party enters a hair salon, sits down in a chair, and asks for a haircut, which the other party then provides. By asking for the haircut, the first party has implicitly agreed to pay for the haircut.Nature of contractual terms - section 10 of Indian Contract Act, 1872 delimits as \" All concurrences are contracts if they are created for one free consent; bodies able to the contract bearing legitimate concern and allowable object and not definitely asserted as a void \".Warranty - conditions - A Warranty is a term in a contract namely more like a promise by individual body than a condition decide upon by two together bodies. A main dissimilarity is that if a body abandons to observe a promise, the grieving body can require damages, but that disappointment does not specify cause for end of the contract.Inominate teams- An Inominate term is the middle point 'tween a condition and a promise. It is frequently deliberate the \"no-make ready with supplies land\" betwixt two together. Unknown agreements, environments, and warranties are types of promises fashioned in contracts. If individual of the bodies in the contract doesn't answer these promises, it is thought-out a breach of trust, what body maybe grasped responsible for damages. In few cases, a gap admits the oppressed body to finish the contract. This is named a repudiatory rift, and only sure types of agreements admit this to occur.Contract is fashioned betwixt the bodies the one are engaged to bind together in a permissible responsibility that is to say. to do the interest of two together the parties. The bodies, in consideration of rule themselves and to safeguard their interest form their own conditions and environments. And when specific agreements and conditions are established by two together the bodies, skilled is an authorization of the contract that is the liability is dictated on the body to the contract and to function similarly the agreements and conditions of the contract.Though many a occasions, the weakening parties work in accordance with the conditions and environments of the other body, skilled are instances when individual body back steps, so chief to the misfortune to different body.This is applied as denial. According to the portion 39 of the indian contract Act, \"Any intimation either saying or by conduct that the body declines in the second place with the contract is repudiation, if the result is inclined strip the blameless body of solid the benefit of thecontract\"Thus, rejectionb can happen when the either body refuses to act welcome part, or create it impossible for him to act or even abandons to act welcome constituent contract in each of the cases in such a tone concerning show an goal not to execute his one the contract.Breach of contract is delineated is a allowable cause of operation at which point a binding concurrence or bargained for exchange is not respected by individual or more bodies to the contract by non-performance or impedance accompanying the added body?s act. It the body does not discharge welcome contractual promise, or has likely facts to the other body that he will not act welcome assignment as mentioned in the contract or if by welcome operation and conduct he appears expected incapable to act the contract, he is pronounced expected breach of trust.Th us when a body bearing a assignment to act a contract abandons commotion that, or does demonstration whereby the act of the contract by him enhancesabsurd, or he refuses to act the contract, skilled is pronounced expected a breach of trust on his part. On the breach of trust for one individual body, the added body is dismissed of welcome responsibilities to perform welcome unspecified the obligations. Breach of a contract does not discharge the contract, through instinctively end the obligation of the harmless body. It gives an belief to the blameless body to regard itself as discharged. The naive body rescinds the contract, the basic responsibility of two together the bodies is over, but the defaulting bodies enhance open for fee of repayment for the rupture. The innocent party can likewise grant the broken accomplishment and choose to acknowledge damages alternatively of ending the contract.The breach of trust concede possibility be either: (i) real, that is non-depiction of the contract on the due date of conduct, or (ii) expectant, that is before the due date of the conduct has happen.Thus, when the body to the contract refuses commotion an act or does showing concurrently with an activity of theperformance of the contract before it is pronounced expected the real rift of the contract, but when the party to the contract refuses commotion demonstration or does showing before moment of truth of depiction by which the acting of the contract is not likely, the aforementioned gap is popular as the anticipatory breachTerms and Conditions are the lively analyses that businesses fix to guarantee that they safeguard their rights. However, you endure further ensure that they are permissible, enforceable, and do their destined purpose. Otherwise, you leave your association unprotected to legal responsibilities or undesirable results.Rather than leave your contracts to best guesses, inspect the news below to gain nearly conditions and environments.Terms and environments are few a that guarantee bodies accept their allowable rights and obligations. Parties draft bureaucracy into a allowable contract, otherwise known as a allowable compromise, similarly local, state, and genera l contract societies. They set main frontiers that all contract principals must uphold.Terms and conditions are used in a variety of contract kinds. Consider how you want to structure your contract and negotiate the terms and conditions with the other party before concluding anything when you have a formal agreement to construct with another person or company. This tactic will aid in fostering a feeling of value and inclusion on al l sides.In the broadest sense, terms and conditions are quite ambiguous. Nevertheless, based on the complexity, size, and industry of the contract, they may have more precise terms. You'll discover that various types of terms and conditions all contain similar elements.A contract's terms and conditions serve as a set of guidelines for all of its parties. They also provide information to courts regarding the original aim and goal of the transaction.Terms and conditions may include the following:RightsObligationsDutiesRolesResponsibilitiesConsiderationContact detailsWith signaturesresolving conflictsSignificant datesDeliverablesTerms of paymentLimitations.Terms and conditions are used to let customers know their rights before making a purchase. Both parties should be informed of the potential legal repercussions that they bring. Before you sign any contracts, make sure to carefully read them because many do not allow you to cancel them without paying a fee before carrying out your duties.1. UptofFn India Ltd v Shanni Bann1\"This case, was related to the conferment of the permanent employment status. The Court held that the termination without notice of a contract of an employee without any duration is regarded as arbitrary and unlawful for matters of employment by a Govt entity or any public entity established as a State pursuant to article 12 of the Constitution, regardless of the employment provision or standing orders.\"Analysis of Importance of fundamental terms\"terms are nothing different but it is an statement in Which owner clarifies the conditions and consequences of something in contract. Each Fundamental terms Forms contractual obligation for both and in incase of breach of that contractual obligation results in legal remedies.Formation of contracts are very common in business and in many other work which is long in some cases and short in some cases as well but the objective in contract is to decide terms and form conditions for both the parties. Every contract of business contains the key terms in contract which is of diffrent categories. The terms of contract forms obligation on parties by law, that is why both the parties review on terms strictly and negotiate on that terms until both the parties satisfied. presence of terms protect the best intrests of both the parties by the deadlines, fees and compensation. few terms are specific which can be seen invariety of contract. Contractual language are mostly used without knowing that both parties knows the right legal terms. to make it easier here types of contract.\"1. ConditionIf a term is a conditions and a party is no following then the performing party will be on the breach of contract. other party can claim the damages and entitled to remedies.2. WarrantiesIf a term is warranty. and a party is on the breach of contract then counterparty is allowed to claim damages, However parties can not terminate contract .3. InnominateA term will be Innominate if it is neither condition nor warranty. in case of breach of innominate term, the short of remedy Will depend on how several the breach is. If the party not get the benefit mentioned in the contract then it Will be brech of condition. Then party will be able to terminate the contract and claim damage. while breach is minor and not enough to terminate the contract. it will be classed as a breach of warranty. The innocent Will only we able to claim damages.Some companies omit important terms pertaining to their activities, such as:Restrictions on liabilityuse restrictionsclosure of the accountPayment and warranty terms for goodsA change to the conditions of the agreementThese clauses safeguard you in the case that a user tries to improperly utilise your website.A reduction of provisions requires that everyone agree to use the site at their own risk and places full responsibility for law breaking on the shoulders of usersTerms and Policies for Sony: Excerpt from the Declaration of Harm caused and Limitation of Liability clauseWith capital letters and boilerplate wording refusing to acknowledge all guarantees that may be legally disclaimed, these phrases frequently have a remarkably similar appearance.'A Restricted Uses section expressly warns users against using your website in an incorrect or unlawful manner.You can close accounts that don't comply with your T&C or for any other purpose you see fit if they have an entity sunset clause.Nintendo, for instance, has the right to terminate information at any time, for any reason, even without advanced warning.Nintendo's Terms of Use: Provider Modification and Termination sectionWithout these three provisions, even if one individual violates the law, you risk getting into legal trouble. These clauses offer you the freedom to spot illegal actions and put an end to it without needing a court order or the user's right to seek redress.Check off each item on a review prior publishing your Terms and Conditions to make sure you covered all of your business practises.In the case, the Some companies omit important terms pertaining to their activities, such as:A reduction of provisions requires that everyone agree to use the site at their own risk and places full responsibility for law breaking on the shoulders of users.\"Here is a Sony illustration:Terms and Policies for Sony: Excerpt from the Declaration of Harm caused and Limitation of Liability clauseWith capital letters and boilerplate wording refusing to acknowledge all guarantees that may be legally disclaimed, these phrases frequently have a remarkably similar appearance.Isuues related to terms in contract.It can be seen from the analysis of both legislations and judicial interpretation that the legal regime in India related fundamental terms in a contract is fairly unambiguous and the narrow in its ambit as compared to the United Kingdom. An agreement made involving two or more entities (individuals or entities) that establishes rights and liabilities and makes those entitlements enforceable against the participants is known as a contract. Depending on the type of contract, many legal system needs that a contract be in writing and signed in order to be enforceable, while others allow for the construction of a legally enforceable contract even through verbal agreement.There must be an offer and acceptance for there to be a contract. When there is consensus in idem, also known as a convergence of the thoughts, the contract is considered to be finalised. To put it another way, the partners' comprehension of all material provisions of the agreement .\n"
          ]
        }
      ],
      "source": [
        "print(article_text)"
      ]
    },
    {
      "cell_type": "code",
      "execution_count": null,
      "id": "d29cb6ab",
      "metadata": {
        "id": "d29cb6ab"
      },
      "outputs": [],
      "source": [
        "import re\n",
        "import nltk\n",
        "# Removing Square Brackets and Extra Spaces\n",
        "article_text = re.sub(r'\\[[0-9]*\\]', ' ', article_text)\n",
        "article_text = re.sub(r'\\s+', ' ', article_text)\n",
        "\n",
        "# Removing special characters and digits\n",
        "formatted_article_text = re.sub('[^a-zA-Z]', ' ', article_text )\n",
        "formatted_article_text = re.sub(r'\\s+', ' ', formatted_article_text)\n",
        "\n",
        "sentence_list = nltk.sent_tokenize(article_text)\n",
        "\n",
        "stopwords = nltk.corpus.stopwords.words('english')"
      ]
    },
    {
      "cell_type": "code",
      "execution_count": null,
      "id": "65e92211",
      "metadata": {
        "id": "65e92211"
      },
      "outputs": [],
      "source": [
        "word_frequencies = {}\n",
        "for word in nltk.word_tokenize(formatted_article_text):\n",
        "    if word not in stopwords:\n",
        "        if word not in word_frequencies.keys():\n",
        "            word_frequencies[word] = 1\n",
        "        else:\n",
        "            word_frequencies[word] += 1\n",
        "\n",
        "maximum_frequncy = max(word_frequencies.values())\n",
        "\n",
        "for word in word_frequencies.keys():\n",
        "    word_frequencies[word] = (word_frequencies[word]/maximum_frequncy)"
      ]
    },
    {
      "cell_type": "code",
      "execution_count": null,
      "id": "cf35e860",
      "metadata": {
        "id": "cf35e860"
      },
      "outputs": [],
      "source": [
        "import heapq\n",
        "sentence_scores = {}\n",
        "for sent in sentence_list:\n",
        "    for word in nltk.word_tokenize(sent.lower()):\n",
        "        if word in word_frequencies.keys():\n",
        "            if len(sent.split(' ')) < 30:\n",
        "                if sent not in sentence_scores.keys():\n",
        "                    sentence_scores[sent] = word_frequencies[word]\n",
        "                else:\n",
        "                    sentence_scores[sent] += word_frequencies[word]\n",
        "\n",
        "\n",
        "summary_sentences = heapq.nlargest(15, sentence_scores, key=sentence_scores.get)\n",
        "\n",
        "article_text2= re.findall(r'\\d', article_text)\n",
        "\n",
        "summary = ' '.join(summary_sentences)"
      ]
    },
    {
      "cell_type": "code",
      "source": [
        "type(summary)"
      ],
      "metadata": {
        "colab": {
          "base_uri": "https://localhost:8080/"
        },
        "id": "TX7-n9ro5csN",
        "outputId": "8fa22ef5-f0a6-4570-8e6a-2abd0083ef98"
      },
      "id": "TX7-n9ro5csN",
      "execution_count": null,
      "outputs": [
        {
          "output_type": "execute_result",
          "data": {
            "text/plain": [
              "str"
            ]
          },
          "metadata": {},
          "execution_count": 37
        }
      ]
    },
    {
      "cell_type": "code",
      "execution_count": null,
      "id": "7d5c65d2",
      "metadata": {
        "colab": {
          "base_uri": "https://localhost:8080/"
        },
        "id": "7d5c65d2",
        "outputId": "ef682dd4-e59b-4292-f3d1-be9cb731891e"
      },
      "outputs": [
        {
          "output_type": "stream",
          "name": "stdout",
          "text": [
            "You'll discover that various types of terms and conditions all contain similar elements.A contract's terms and conditions serve as a set of guidelines for all of its parties. and a party is on the breach of contract then counterparty is allowed to claim damages, However parties can not terminate contract .3. Breach of a contract does not discharge the contract, through instinctively end the obligation of the harmless body. Parties draft bureaucracy into a allowable contract, otherwise known as a allowable compromise, similarly local, state, and genera l contract societies. Every contract of business contains the key terms in contract which is of diffrent categories. \"Analysis of Importance of fundamental terms\"terms are nothing different but it is an statement in Which owner clarifies the conditions and consequences of something in contract. They set main frontiers that all contract principals must uphold.Terms and conditions are used in a variety of contract kinds. Express contract demonstrates promises created between bodies accompanying agreements and environments interpret.Implicit contracts are fashioned betwixt parties established behaviours of bodies. The naive body rescinds the contract, the basic responsibility of two together the bodies is over, but the defaulting bodies enhance open for fee of repayment for the rupture. ConditionIf a term is a conditions and a party is no following then the performing party will be on the breach of contract. The contract is in lay terms a legally enforceable arrangement voluntarily concluded with respect and reciprocal responsibility on the part of the parties. If individual of the bodies in the contract doesn't answer these promises, it is thought-out a breach of trust, what body maybe grasped responsible for damages. It is also asserted that performance of a fundamental term can not, unlike other contract terms, be avoided by means of exemption clause. If the statement comes to a term of the contract that is not completed, the naive body concede possibility sue for breach of trust. Nevertheless, based on the complexity, size, and industry of the contract, they may have more precise terms.\n"
          ]
        }
      ],
      "source": [
        "print(summary)"
      ]
    },
    {
      "cell_type": "code",
      "execution_count": null,
      "id": "5bebfc98",
      "metadata": {
        "id": "5bebfc98",
        "colab": {
          "base_uri": "https://localhost:8080/"
        },
        "outputId": "e46b5445-1c8a-4c6b-ef08-aff3bf3cd27b"
      },
      "outputs": [
        {
          "output_type": "stream",
          "name": "stdout",
          "text": [
            "You'll discover that various types of terms and conditions all contain similar elements.A contract's terms and conditions serve as a set of guidelines for all of its part\n",
            "ies. and a party is on the breach of contract then counterparty is allowed to claim damages, However parties can not terminate contract .3. Breach of a contract does not \n",
            "discharge the contract, through instinctively end the obligation of the harmless body. Parties draft bureaucracy into a allowable contract, otherwise known as a allowable\n",
            " compromise, similarly local, state, and genera l contract societies. Every contract of business contains the key terms in contract which is of diffrent categories. \"Anal\n",
            "ysis of Importance of fundamental terms\"terms are nothing different but it is an statement in Which owner clarifies the conditions and consequences of something in contra\n",
            "ct. They set main frontiers that all contract principals must uphold.Terms and conditions are used in a variety of contract kinds. Express contract demonstrates promises \n",
            "created between bodies accompanying agreements and environments interpret.Implicit contracts are fashioned betwixt parties established behaviours of bodies. The naive bod\n",
            "y rescinds the contract, the basic responsibility of two together the bodies is over, but the defaulting bodies enhance open for fee of repayment for the rupture. Conditi\n",
            "onIf a term is a conditions and a party is no following then the performing party will be on the breach of contract. The contract is in lay terms a legally enforceable ar\n",
            "rangement voluntarily concluded with respect and reciprocal responsibility on the part of the parties. If individual of the bodies in the contract doesn't answer these pr\n",
            "omises, it is thought-out a breach of trust, what body maybe grasped responsible for damages. It is also asserted that performance of a fundamental term can not, unlike o\n",
            "ther contract terms, be avoided by means of exemption clause. If the statement comes to a term of the contract that is not completed, the naive body concede possibility s\n",
            "ue for breach of trust. Nevertheless, based on the complexity, size, and industry of the contract, they may have more precise terms.\n"
          ]
        }
      ],
      "source": [
        "window_size = 170\n",
        "\n",
        "# Split the string into rows based on window size\n",
        "rows = [summary[i:i+window_size] for i in range(0, len(summary), window_size)]\n",
        "\n",
        "# Print each row\n",
        "for row in rows:\n",
        "    print(row)"
      ]
    },
    {
      "cell_type": "code",
      "source": [],
      "metadata": {
        "id": "RroVMf4l6WHo"
      },
      "id": "RroVMf4l6WHo",
      "execution_count": null,
      "outputs": []
    }
  ],
  "metadata": {
    "kernelspec": {
      "display_name": "Python 3 (ipykernel)",
      "language": "python",
      "name": "python3"
    },
    "language_info": {
      "codemirror_mode": {
        "name": "ipython",
        "version": 3
      },
      "file_extension": ".py",
      "mimetype": "text/x-python",
      "name": "python",
      "nbconvert_exporter": "python",
      "pygments_lexer": "ipython3",
      "version": "3.9.12"
    },
    "colab": {
      "provenance": []
    }
  },
  "nbformat": 4,
  "nbformat_minor": 5
}